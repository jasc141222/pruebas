{
  "nbformat": 4,
  "nbformat_minor": 0,
  "metadata": {
    "colab": {
      "provenance": [],
      "toc_visible": true,
      "authorship_tag": "ABX9TyO0DR2kaKwOKDvXyY9j6yef"
    },
    "kernelspec": {
      "name": "python3",
      "display_name": "Python 3"
    },
    "language_info": {
      "name": "python"
    }
  },
  "cells": [
    {
      "cell_type": "markdown",
      "source": [
        "Crear Funciones"
      ],
      "metadata": {
        "id": "L7qoFG2tqTVu"
      }
    },
    {
      "cell_type": "code",
      "execution_count": null,
      "metadata": {
        "colab": {
          "base_uri": "https://localhost:8080/"
        },
        "id": "Iph9dDzNoCR2",
        "outputId": "7eabc694-b672-4875-8e80-92f4f76f6810"
      },
      "outputs": [
        {
          "output_type": "stream",
          "name": "stdout",
          "text": [
            "Prueba\n"
          ]
        },
        {
          "output_type": "execute_result",
          "data": {
            "text/plain": [
              "3"
            ]
          },
          "metadata": {},
          "execution_count": 8
        }
      ],
      "source": [
        "\n",
        "def suma(a,b):\n",
        "  c= a+b\n",
        "  print(\"Prueba\")\n",
        "  return c\n",
        "\n",
        "suma(1,2)"
      ]
    },
    {
      "cell_type": "markdown",
      "source": [
        "Crea Lambda"
      ],
      "metadata": {
        "id": "rcMIhp1pqY-b"
      }
    },
    {
      "cell_type": "code",
      "source": [
        "c=lambda x , y : x + y\n",
        "c(1,6)"
      ],
      "metadata": {
        "colab": {
          "base_uri": "https://localhost:8080/"
        },
        "id": "7K08rAAaqbvo",
        "outputId": "fe4320d6-ad7f-463e-9588-dfe252d1415c"
      },
      "execution_count": null,
      "outputs": [
        {
          "output_type": "execute_result",
          "data": {
            "text/plain": [
              "7"
            ]
          },
          "metadata": {},
          "execution_count": 18
        }
      ]
    },
    {
      "cell_type": "markdown",
      "source": [
        "Ejercicios de Funciones\n"
      ],
      "metadata": {
        "id": "_nCIjOs90daS"
      }
    },
    {
      "cell_type": "code",
      "source": [
        "def valor (x,y):\n",
        "  z= x**2+y**2\n",
        "  return z\n",
        "valor(2,1)"
      ],
      "metadata": {
        "colab": {
          "base_uri": "https://localhost:8080/"
        },
        "id": "SySuhf4t0ldB",
        "outputId": "d6633951-b437-4ab1-b8d2-95d2fc25e076"
      },
      "execution_count": 20,
      "outputs": [
        {
          "output_type": "execute_result",
          "data": {
            "text/plain": [
              "5"
            ]
          },
          "metadata": {},
          "execution_count": 20
        }
      ]
    },
    {
      "cell_type": "code",
      "source": [
        "def areacirculo(r):\n",
        "  import math\n",
        "  area=(r**2)*math.pi\n",
        "  return area\n",
        "areacirculo(1)"
      ],
      "metadata": {
        "colab": {
          "base_uri": "https://localhost:8080/"
        },
        "id": "pP7LM4tv3OhC",
        "outputId": "5dcdbf46-342b-4468-b851-43023cd833f9"
      },
      "execution_count": 21,
      "outputs": [
        {
          "output_type": "execute_result",
          "data": {
            "text/plain": [
              "3.141592653589793"
            ]
          },
          "metadata": {},
          "execution_count": 21
        }
      ]
    },
    {
      "cell_type": "code",
      "source": [
        "resultado=lambda x:\"Par\" if (x%2==0) else \"impar\"\n",
        "resultado(8)"
      ],
      "metadata": {
        "colab": {
          "base_uri": "https://localhost:8080/",
          "height": 35
        },
        "id": "3HvbDUiN6ZxF",
        "outputId": "022a6ea9-41e8-41bf-b8c9-4a50db9beb3d"
      },
      "execution_count": 26,
      "outputs": [
        {
          "output_type": "execute_result",
          "data": {
            "text/plain": [
              "'Par'"
            ],
            "application/vnd.google.colaboratory.intrinsic+json": {
              "type": "string"
            }
          },
          "metadata": {},
          "execution_count": 26
        }
      ]
    },
    {
      "cell_type": "code",
      "source": [
        "mayoracero=lambda x:x>0\n",
        "x=[0,1,2,-3,-5,-6,7,15,20]\n",
        "list(filter(mayoracero,x))"
      ],
      "metadata": {
        "colab": {
          "base_uri": "https://localhost:8080/"
        },
        "id": "E4suwMKN7eBq",
        "outputId": "4ade2634-d645-49ba-8406-0434b13fe3d2"
      },
      "execution_count": 31,
      "outputs": [
        {
          "output_type": "execute_result",
          "data": {
            "text/plain": [
              "[1, 2, 7, 15, 20]"
            ]
          },
          "metadata": {},
          "execution_count": 31
        }
      ]
    },
    {
      "cell_type": "code",
      "source": [
        "pitagoras = lambda x,y:pow(x**2+y**2,0.5)\n",
        "pitagoras(3,4)"
      ],
      "metadata": {
        "colab": {
          "base_uri": "https://localhost:8080/"
        },
        "id": "eaRLgwchAE0s",
        "outputId": "e8393a80-e3ad-41be-a39f-cb4047f49c0e"
      },
      "execution_count": 32,
      "outputs": [
        {
          "output_type": "execute_result",
          "data": {
            "text/plain": [
              "5.0"
            ]
          },
          "metadata": {},
          "execution_count": 32
        }
      ]
    },
    {
      "cell_type": "code",
      "source": [
        "def pitagoras_func(x,y):\n",
        "  return pow((x**2+y**2),0.5)\n",
        "pitagoras_func(3,4)"
      ],
      "metadata": {
        "colab": {
          "base_uri": "https://localhost:8080/"
        },
        "id": "IRJLV6WyAXkh",
        "outputId": "42aab0db-e251-4d50-ab43-e445ca8345ae"
      },
      "execution_count": 33,
      "outputs": [
        {
          "output_type": "execute_result",
          "data": {
            "text/plain": [
              "5.0"
            ]
          },
          "metadata": {},
          "execution_count": 33
        }
      ]
    }
  ]
}