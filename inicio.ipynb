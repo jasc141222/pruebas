{
  "nbformat": 4,
  "nbformat_minor": 0,
  "metadata": {
    "colab": {
      "provenance": [],
      "authorship_tag": "ABX9TyO6bWhS+BgG0VGfrCymHR17"
    },
    "kernelspec": {
      "name": "python3",
      "display_name": "Python 3"
    },
    "language_info": {
      "name": "python"
    }
  },
  "cells": [
    {
      "cell_type": "markdown",
      "source": [
        "Crear Funciones"
      ],
      "metadata": {
        "id": "L7qoFG2tqTVu"
      }
    },
    {
      "cell_type": "code",
      "execution_count": 8,
      "metadata": {
        "colab": {
          "base_uri": "https://localhost:8080/"
        },
        "id": "Iph9dDzNoCR2",
        "outputId": "7eabc694-b672-4875-8e80-92f4f76f6810"
      },
      "outputs": [
        {
          "output_type": "stream",
          "name": "stdout",
          "text": [
            "Prueba\n"
          ]
        },
        {
          "output_type": "execute_result",
          "data": {
            "text/plain": [
              "3"
            ]
          },
          "metadata": {},
          "execution_count": 8
        }
      ],
      "source": [
        "\n",
        "def suma(a,b):\n",
        "  c= a+b\n",
        "  print(\"Prueba\")\n",
        "  return c\n",
        "\n",
        "suma(1,2)"
      ]
    },
    {
      "cell_type": "markdown",
      "source": [
        "Crea Lambda"
      ],
      "metadata": {
        "id": "rcMIhp1pqY-b"
      }
    },
    {
      "cell_type": "code",
      "source": [
        "c=lambda x , y : x + y\n",
        "c(1,6)"
      ],
      "metadata": {
        "colab": {
          "base_uri": "https://localhost:8080/"
        },
        "id": "7K08rAAaqbvo",
        "outputId": "fe4320d6-ad7f-463e-9588-dfe252d1415c"
      },
      "execution_count": 18,
      "outputs": [
        {
          "output_type": "execute_result",
          "data": {
            "text/plain": [
              "7"
            ]
          },
          "metadata": {},
          "execution_count": 18
        }
      ]
    },
    {
      "cell_type": "markdown",
      "source": [],
      "metadata": {
        "id": "ELY7qpHwtD4T"
      }
    }
  ]
}